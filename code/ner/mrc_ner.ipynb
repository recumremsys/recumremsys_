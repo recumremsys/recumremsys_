{
  "nbformat": 4,
  "nbformat_minor": 0,
  "metadata": {
    "colab": {
      "name": "mrc-ner.ipynb",
      "provenance": [],
      "collapsed_sections": []
    },
    "kernelspec": {
      "name": "python3",
      "display_name": "Python 3"
    },
    "accelerator": "GPU"
  },
  "cells": [
    {
      "cell_type": "code",
      "metadata": {
        "id": "pQrI7huH5GEx"
      },
      "source": [
        "!git clone https://github.com/ShannonAI/mrc-for-flat-nested-ner.git"
      ],
      "execution_count": null,
      "outputs": []
    },
    {
      "cell_type": "code",
      "metadata": {
        "id": "_mDYS44c5TWl"
      },
      "source": [
        "!wget https://storage.googleapis.com/bert_models/2019_05_30/wwm_uncased_L-24_H-1024_A-16.zip"
      ],
      "execution_count": null,
      "outputs": []
    },
    {
      "cell_type": "code",
      "metadata": {
        "id": "T8ffXZdL6ZrT"
      },
      "source": [
        "!unzip /content/wwm_uncased_L-24_H-1024_A-16.zip"
      ],
      "execution_count": null,
      "outputs": []
    },
    {
      "cell_type": "code",
      "metadata": {
        "id": "156bUcQTxvjX"
      },
      "source": [
        "!mkdir -p /content/mrc-for-flat-nested-ner/mnt/mrc"
      ],
      "execution_count": null,
      "outputs": []
    },
    {
      "cell_type": "code",
      "metadata": {
        "id": "d2d16LNQ7IDH"
      },
      "source": [
        "!pip install -r '/content/mrc-for-flat-nested-ner/requirements.txt'"
      ],
      "execution_count": null,
      "outputs": []
    },
    {
      "cell_type": "code",
      "metadata": {
        "id": "mxoipE-eAGaZ",
        "colab": {
          "base_uri": "https://localhost:8080/"
        },
        "outputId": "e84a69e1-21bc-4b62-b61d-deb5c13efbba"
      },
      "source": [
        "!mv /content/wwm_uncased_L-24_H-1024_A-16 /content/mrc-for-flat-nested-ner/mnt/mrc"
      ],
      "execution_count": null,
      "outputs": [
        {
          "output_type": "stream",
          "text": [
            "mv: cannot stat '/content/wwm_uncased_L-24_H-1024_A-16': No such file or directory\n"
          ],
          "name": "stdout"
        }
      ]
    },
    {
      "cell_type": "code",
      "metadata": {
        "id": "vw6M_FMK4SOo"
      },
      "source": [
        "!transformers-cli convert --model_type bert  --tf_checkpoint /content/mrc-for-flat-nested-ner/mnt/mrc/wwm_uncased_L-24_H-1024_A-16/bert_model.ckpt --config /content/mrc-for-flat-nested-ner/mnt/mrc/wwm_uncased_L-24_H-1024_A-16/bert_config.json --pytorch_dump_output /content/mrc-for-flat-nested-ner/mnt/mrc/wwm_uncased_L-24_H-1024_A-16/pytorch_model.bin"
      ],
      "execution_count": null,
      "outputs": []
    },
    {
      "cell_type": "code",
      "metadata": {
        "id": "MnXjFTt-BDKm"
      },
      "source": [
        "!mkdir /content/mrc-for-flat-nested-ner/mnt/mrc/ace2005"
      ],
      "execution_count": null,
      "outputs": []
    },
    {
      "cell_type": "code",
      "metadata": {
        "id": "vf8q9wi87L_g"
      },
      "source": [
        "! chmod +x /content/mrc-for-flat-nested-ner/scripts/reproduce/ace05.sh \n",
        "! /content/mrc-for-flat-nested-ner/scripts/reproduce/ace05.sh"
      ],
      "execution_count": null,
      "outputs": []
    },
    {
      "cell_type": "code",
      "metadata": {
        "id": "v9f2TP-PTH5V"
      },
      "source": [
        "from google.colab import drive\n",
        "drive.mount('/content/drive')"
      ],
      "execution_count": null,
      "outputs": []
    },
    {
      "cell_type": "code",
      "metadata": {
        "id": "vomuHgq2Tkqj"
      },
      "source": [
        "!mv \"/content/mrc-for-flat-nested-ner/mnt/mrc/train_logs/ace2005/ace2005_20200917_wwmlarge_sgd_warm0lr1e-5_drop0.4_norm1.0_bsz32_gold_span_weight0.1_warmup0_maxlen128/epoch=9_v1.ckpt\" \"/content/drive/My Drive\""
      ],
      "execution_count": null,
      "outputs": []
    },
    {
      "cell_type": "code",
      "metadata": {
        "id": "tEm06ae5nqs4"
      },
      "source": [
        "'''import pickle\n",
        "\n",
        "with open('/content/origin_offset2token_idx_start.pickle', 'rb') as fp:\n",
        "  origin_offset2token_idx_start = pickle.load(fp)\n",
        "\n",
        "with open('/content/start_positions.pickle', 'rb') as fp:\n",
        "  start_positions = pickle.load(fp)'''"
      ],
      "execution_count": null,
      "outputs": []
    },
    {
      "cell_type": "code",
      "metadata": {
        "id": "ZjET19p2oc6m"
      },
      "source": [
        "'''print(start_positions)\n",
        "print(origin_offset2token_idx_start)'''"
      ],
      "execution_count": null,
      "outputs": []
    },
    {
      "cell_type": "code",
      "metadata": {
        "id": "9Cpo5xm2oEul"
      },
      "source": [
        "'''for start in start_positions:\n",
        "  try:\n",
        "    print(origin_offset2token_idx_start[start])\n",
        "  except:\n",
        "    continue'''"
      ],
      "execution_count": null,
      "outputs": []
    }
  ]
}