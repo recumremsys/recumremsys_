{
  "nbformat": 4,
  "nbformat_minor": 0,
  "metadata": {
    "colab": {
      "name": "Integration.ipynb",
      "provenance": [],
      "collapsed_sections": []
    },
    "kernelspec": {
      "name": "python3",
      "display_name": "Python 3"
    },
    "accelerator": "GPU"
  },
  "cells": [
    {
      "cell_type": "code",
      "metadata": {
        "id": "2rbOAOCm_n3x",
        "colab_type": "code",
        "colab": {}
      },
      "source": [
        "!pip install bs4\n",
        "!pip install google\n",
        "!pip install selenium\n",
        "!apt-get update\n",
        "!apt install chromium-chromedriver\n",
        "!cp /usr/lib/chromium-browser/chromedriver /usr/bin\n",
        "!pip install google"
      ],
      "execution_count": 0,
      "outputs": []
    },
    {
      "cell_type": "code",
      "metadata": {
        "id": "6tljFHEQ_hwz",
        "colab_type": "code",
        "colab": {}
      },
      "source": [
        "!pip install bert-serving-client\n",
        "!pip install -U bert-serving-server[http]\n",
        "!wget https://storage.googleapis.com/bert_models/2018_10_18/uncased_L-12_H-768_A-12.zip\n",
        "!unzip uncased_L-12_H-768_A-12.zip\n",
        "!nohup bert-serving-start -model_dir=./uncased_L-12_H-768_A-12 > out.file 2>&1 &"
      ],
      "execution_count": 0,
      "outputs": []
    },
    {
      "cell_type": "code",
      "metadata": {
        "id": "Q1QUcHu2cARz",
        "colab_type": "code",
        "colab": {}
      },
      "source": [
        "!wget https://nlp.stanford.edu/software/stanford-postagger-2018-10-16.zip\n",
        "!unzip stanford-postagger-2018-10-16.zip\n",
        "!wget https://nlp.stanford.edu/software/stanford-ner-2018-10-16.zip\n",
        "!unzip stanford-ner-2018-10-16.zip\n",
        "\n",
        "!wget http://nlp.stanford.edu/software/stanford-english-corenlp-2018-02-27-models.jar\n",
        "!wget https://nlp.stanford.edu/software/stanford-parser-full-2018-10-17.zip\n",
        "\n",
        "!unzip stanford-parser-full-2018-10-17.zip"
      ],
      "execution_count": 0,
      "outputs": []
    },
    {
      "cell_type": "code",
      "metadata": {
        "colab_type": "code",
        "id": "uKmFEeHM_Pw7",
        "colab": {}
      },
      "source": [
        "from google.colab import drive\n",
        "drive.mount('/content/gdrive/')"
      ],
      "execution_count": 0,
      "outputs": []
    },
    {
      "cell_type": "code",
      "metadata": {
        "colab_type": "code",
        "id": "yVI7rpQc_QKZ",
        "colab": {}
      },
      "source": [
        "import sys\n",
        "sys.path.append('/content/gdrive')"
      ],
      "execution_count": 0,
      "outputs": []
    },
    {
      "cell_type": "code",
      "metadata": {
        "id": "HWX4-gDu_keF",
        "colab_type": "code",
        "colab": {}
      },
      "source": [
        "from bert_serving.client import BertClient\n",
        "bc = BertClient()"
      ],
      "execution_count": 0,
      "outputs": []
    },
    {
      "cell_type": "code",
      "metadata": {
        "id": "fK4FSLkQRTsw",
        "colab_type": "code",
        "colab": {}
      },
      "source": [
        "import time\n",
        "from datetime import date, timedelta\n",
        "import ner_stanford\n",
        "import imperatives\n",
        "import reminder_list\n",
        "import reminder_list_email\n",
        "import sel_ext\n",
        "import weatherapi\n",
        "import places\n",
        "import stanford_parser"
      ],
      "execution_count": 0,
      "outputs": []
    },
    {
      "cell_type": "code",
      "metadata": {
        "id": "Nuza4iRrb6cm",
        "colab_type": "code",
        "outputId": "248474f9-deeb-42ba-f677-df61bd63a24b",
        "colab": {
          "base_uri": "https://localhost:8080/",
          "height": 34
        }
      },
      "source": [
        "text = \" \"\n",
        "with open(\"letter.txt\") as fp:\n",
        "  for line in fp:\n",
        "    line = line.strip()\n",
        "    text += (line + \" \")\n",
        "\n",
        "nerarr = ner_stanford.NER(text)\n",
        "place = nerarr['LOCATION'][0]\n",
        "print(nerarr['LOCATION'])"
      ],
      "execution_count": 0,
      "outputs": [
        {
          "output_type": "stream",
          "text": [
            "['Newport']\n"
          ],
          "name": "stdout"
        }
      ]
    },
    {
      "cell_type": "code",
      "metadata": {
        "id": "JSrr61AgBLaY",
        "colab_type": "code",
        "outputId": "e2e97770-aa60-4170-a71f-ca2e896df39d",
        "colab": {
          "base_uri": "https://localhost:8080/",
          "height": 279
        }
      },
      "source": [
        "#places to visit nearby\n",
        "near_places = places.area(place)\n",
        "for i in near_places:\n",
        "  print(i)\n",
        "#Destination = str(input(\"Tell us the place from the list you want to visit\"))\n",
        "Destination = 'Cliff Walk'\n",
        "print(\"\\n\\nThe chosen destination is\",Destination)"
      ],
      "execution_count": 0,
      "outputs": [
        {
          "output_type": "stream",
          "text": [
            "https://www.tripadvisor.com/Attractions-g60978-Activities-Newport_Rhode_Island.html?sa=X&ved=2ahUKEwiM85uLqf7nAhUSS60KHbdBDeEQ9QF6BAgHEAI\n",
            "1. The Breakers\n",
            "2. Cliff Walk\n",
            "3. Ocean Drive\n",
            "4. Marble House\n",
            "5. Fort Adams State Park\n",
            "6. The Elms\n",
            "7. Rough Point\n",
            "8. Rosecliff\n",
            "9. International Tennis Hall of Fame\n",
            "10. Thames Street\n",
            "\n",
            "\n",
            "The chosen destination is Cliff Walk\n"
          ],
          "name": "stdout"
        }
      ]
    },
    {
      "cell_type": "code",
      "metadata": {
        "id": "Npw-Fp_xBEV4",
        "colab_type": "code",
        "outputId": "3e52ebd1-def2-4ef8-f0cb-f614580609c4",
        "colab": {
          "base_uri": "https://localhost:8080/",
          "height": 418
        }
      },
      "source": [
        "#weather from the day event will begin to completion and result will be stored in pandas dataframe i.e. weath_pd \n",
        "\n",
        "today = date.today()\n",
        "week_later = today + timedelta(days=6)\n",
        "today = today.strftime(\"%Y-%m-%d\")\n",
        "week_later = week_later.strftime(\"%Y-%m-%d\")\n",
        "print(today)\n",
        "\n",
        "weat_pd = weatherapi.WeatherApi(Destination,today, week_later)\n",
        "print(\"\\n\\nThe weather on your visiting days will be like given:-\")\n",
        "weat_pd"
      ],
      "execution_count": 0,
      "outputs": [
        {
          "output_type": "stream",
          "text": [
            "2020-03-03\n"
          ],
          "name": "stdout"
        },
        {
          "output_type": "stream",
          "text": [
            "/usr/local/lib/python3.6/dist-packages/geopy/geocoders/osm.py:143: UserWarning: Using Nominatim with the default \"geopy/1.17.0\" `user_agent` is strongly discouraged, as it violates Nominatim's ToS https://operations.osmfoundation.org/policies/nominatim/ and may possibly cause 403 and 429 HTTP errors. Please specify a custom `user_agent` with `Nominatim(user_agent=\"my-application\")` or by overriding the default `user_agent`: `geopy.geocoders.options.default_user_agent = \"my-application\"`. In geopy 2.0 this will become an exception.\n",
            "  UserWarning\n"
          ],
          "name": "stderr"
        },
        {
          "output_type": "stream",
          "text": [
            "\n",
            "\n",
            "The weather on your visiting days will be like given:-\n"
          ],
          "name": "stdout"
        },
        {
          "output_type": "execute_result",
          "data": {
            "text/html": [
              "<div>\n",
              "<style scoped>\n",
              "    .dataframe tbody tr th:only-of-type {\n",
              "        vertical-align: middle;\n",
              "    }\n",
              "\n",
              "    .dataframe tbody tr th {\n",
              "        vertical-align: top;\n",
              "    }\n",
              "\n",
              "    .dataframe thead th {\n",
              "        text-align: right;\n",
              "    }\n",
              "</style>\n",
              "<table border=\"1\" class=\"dataframe\">\n",
              "  <thead>\n",
              "    <tr style=\"text-align: right;\">\n",
              "      <th></th>\n",
              "      <th>Min temperature</th>\n",
              "      <th>Max temperature</th>\n",
              "      <th>Summary</th>\n",
              "      <th>percentage of rain</th>\n",
              "    </tr>\n",
              "    <tr>\n",
              "      <th>Date and Day</th>\n",
              "      <th></th>\n",
              "      <th></th>\n",
              "      <th></th>\n",
              "      <th></th>\n",
              "    </tr>\n",
              "  </thead>\n",
              "  <tbody>\n",
              "    <tr>\n",
              "      <th>2020-03-03 Tuesday</th>\n",
              "      <td>39.01°F</td>\n",
              "      <td>46.04°F</td>\n",
              "      <td>Rain in the evening and overnight.</td>\n",
              "      <td>72.0</td>\n",
              "    </tr>\n",
              "    <tr>\n",
              "      <th>2020-03-04 Wednesday</th>\n",
              "      <td>34.48°F</td>\n",
              "      <td>42.19°F</td>\n",
              "      <td>Clear throughout the day.</td>\n",
              "      <td>84.0</td>\n",
              "    </tr>\n",
              "    <tr>\n",
              "      <th>2020-03-05 Thursday</th>\n",
              "      <td>26.29°F</td>\n",
              "      <td>42.55°F</td>\n",
              "      <td>Clear throughout the day.</td>\n",
              "      <td>10.0</td>\n",
              "    </tr>\n",
              "    <tr>\n",
              "      <th>2020-03-06 Friday</th>\n",
              "      <td>22.52°F</td>\n",
              "      <td>39.64°F</td>\n",
              "      <td>Light rain starting in the afternoon.</td>\n",
              "      <td>92.0</td>\n",
              "    </tr>\n",
              "    <tr>\n",
              "      <th>2020-03-07 Saturday</th>\n",
              "      <td>17.43°F</td>\n",
              "      <td>35.24</td>\n",
              "      <td>None</td>\n",
              "      <td>NaN</td>\n",
              "    </tr>\n",
              "    <tr>\n",
              "      <th>2020-03-08 Sunday</th>\n",
              "      <td>23.63°F</td>\n",
              "      <td>44.3</td>\n",
              "      <td>None</td>\n",
              "      <td>NaN</td>\n",
              "    </tr>\n",
              "    <tr>\n",
              "      <th>2020-03-09 Monday</th>\n",
              "      <td>34.22°F</td>\n",
              "      <td>44.87°F</td>\n",
              "      <td>Clear throughout the day.</td>\n",
              "      <td>4.0</td>\n",
              "    </tr>\n",
              "  </tbody>\n",
              "</table>\n",
              "</div>"
            ],
            "text/plain": [
              "                     Min temperature  ... percentage of rain\n",
              "Date and Day                          ...                   \n",
              "2020-03-03 Tuesday           39.01°F  ...               72.0\n",
              "2020-03-04 Wednesday         34.48°F  ...               84.0\n",
              "2020-03-05 Thursday          26.29°F  ...               10.0\n",
              "2020-03-06 Friday            22.52°F  ...               92.0\n",
              "2020-03-07 Saturday          17.43°F  ...                NaN\n",
              "2020-03-08 Sunday            23.63°F  ...                NaN\n",
              "2020-03-09 Monday            34.22°F  ...                4.0\n",
              "\n",
              "[7 rows x 4 columns]"
            ]
          },
          "metadata": {
            "tags": []
          },
          "execution_count": 12
        }
      ]
    },
    {
      "cell_type": "code",
      "metadata": {
        "id": "9NxlYkf2BgzV",
        "colab_type": "code",
        "colab": {}
      },
      "source": [
        "reviews = sel_ext.Sel_Ext(Destination) \n",
        "\n",
        "#extracting the imperative sentences\n",
        "print(reviews)\n",
        "imp = imperatives.extract_imperatives(\" \".join(reviews), 1)"
      ],
      "execution_count": 0,
      "outputs": []
    },
    {
      "cell_type": "code",
      "metadata": {
        "colab_type": "code",
        "id": "Wy3KFS4LVLQd",
        "colab": {}
      },
      "source": [
        "#taking out the objects from imperative sentences using BERT, LDA, Tf-idf\n",
        "\n",
        "objects = reminder_list.reminder(imp)\n",
        "\n",
        "temp = imperatives.extract_imperatives(text, 0)\n",
        "\n",
        "for sent in temp:\n",
        "  objects.append(reminder_list_email.reminder_email(sent))"
      ],
      "execution_count": 0,
      "outputs": []
    },
    {
      "cell_type": "code",
      "metadata": {
        "id": "Lt0Qt69NkHFV",
        "colab_type": "code",
        "colab": {}
      },
      "source": [
        "#taking out the objects from imperative sentences using stanford parser\n",
        "\n",
        "objects_stanford = stanford_parser.reminder(imp)\n",
        "\n",
        "objects_stanford.extend(stanford_parser.reminder(temp))"
      ],
      "execution_count": 0,
      "outputs": []
    },
    {
      "cell_type": "code",
      "metadata": {
        "id": "SG4EVyha1Nf3",
        "colab_type": "code",
        "colab": {}
      },
      "source": [
        "print(\"The objects you would like to carry for the convenience are as follows :\" + \"\\n\" + \"\\n\")\n",
        "print(files[1])\n",
        "\n",
        "for i in objects:\n",
        "  print(i)"
      ],
      "execution_count": 0,
      "outputs": []
    }
  ]
}