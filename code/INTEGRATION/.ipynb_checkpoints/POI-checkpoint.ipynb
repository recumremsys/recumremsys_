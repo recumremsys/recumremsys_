{
 "cells": [
  {
   "cell_type": "code",
   "execution_count": 0,
   "metadata": {
    "colab": {},
    "colab_type": "code",
    "id": "FLVmFlMgJ6Bu"
   },
   "outputs": [],
   "source": [
    "import zipfile\n",
    "data = zipfile.ZipFile(\"/content/data.zip\",\"r\")\n",
    "data.extractall(\"/content\")\n"
   ]
  },
  {
   "cell_type": "markdown",
   "metadata": {
    "colab_type": "text",
    "id": "nne86Q4lHTWT"
   },
   "source": [
    "# The goal is to load the file poiList-ijcai15 and take poi_name,poi_theme,latititude,longitude based on user id obtained from file userVisits-ijcai15"
   ]
  },
  {
   "cell_type": "code",
   "execution_count": 58,
   "metadata": {
    "colab": {
     "base_uri": "https://localhost:8080/",
     "height": 198
    },
    "colab_type": "code",
    "id": "FO_K-dvXM5Ff",
    "outputId": "6287a445-d77c-465b-95f6-5af3ddebf8f0"
   },
   "outputs": [
    {
     "name": "stdout",
     "output_type": "stream",
     "text": [
      "userVisits-Edin.csv\n",
      "Edin POI-Edin.csv Edin POI-Vien.csv Edin POI-Pert.csv Edin README.txt Edin POI-Buda.csv Edin POI-Osak.csv Edin POI-Glas.csv Edin POI-Delh.csv Edin POI-Toro.csv userVisits-Vien-allPOI.csv\n",
      "Vien POI-Edin.csv Vien POI-Vien.csv Vien POI-Pert.csv Vien README.txt Vien POI-Buda.csv Vien POI-Osak.csv Vien POI-Glas.csv Vien POI-Delh.csv Vien POI-Toro.csv userVisits-Pert-allPOI.csv\n",
      "Pert POI-Edin.csv Pert POI-Vien.csv Pert POI-Pert.csv Pert README.txt Pert POI-Buda.csv Pert POI-Osak.csv Pert POI-Glas.csv Pert POI-Delh.csv Pert POI-Toro.csv userVisits-Glas.csv\n",
      "Glas POI-Edin.csv Glas POI-Vien.csv Glas POI-Pert.csv Glas README.txt Glas POI-Buda.csv Glas POI-Osak.csv Glas POI-Glas.csv Glas POI-Delh.csv Glas POI-Toro.csv userVisits-Toro.csv\n",
      "Toro POI-Edin.csv Toro POI-Vien.csv Toro POI-Pert.csv Toro README.txt Toro POI-Buda.csv Toro POI-Osak.csv Toro POI-Glas.csv Toro POI-Delh.csv Toro POI-Toro.csv userVisits-Buda-allPOI.csv\n",
      "Buda POI-Edin.csv Buda POI-Vien.csv Buda POI-Pert.csv Buda README.txt Buda POI-Buda.csv Buda POI-Osak.csv Buda POI-Glas.csv Buda POI-Delh.csv Buda POI-Toro.csv userVisits-Delh-allPOI.csv\n",
      "Delh POI-Edin.csv Delh POI-Vien.csv Delh POI-Pert.csv Delh README.txt Delh POI-Buda.csv Delh POI-Osak.csv Delh POI-Glas.csv Delh POI-Delh.csv Delh POI-Toro.csv userVisits-Osak.csv\n",
      "Osak POI-Edin.csv Osak POI-Vien.csv Osak POI-Pert.csv Osak README.txt Osak POI-Buda.csv Osak POI-Osak.csv Osak POI-Glas.csv Osak POI-Delh.csv Osak POI-Toro.csv "
     ]
    },
    {
     "data": {
      "text/plain": [
       "'\\n    for f in os.listdir(path_poi):\\n      if \"csv\" and name in str(f):\\n        print(f)\\n        \\n#comparing the same poiID in table_visit and table_poi\\n        t = 0        \\n        for u in gf.loc[:,\"poiID\"]:\\n          t+=1\\n          aip.append(u)\\n        break\\n    break      \\n#          Dict[table_visit.userID] == [table_poi[\"poiName\",\"theme\",\"lat\",\"long\"]]\\nprint(Dict)\\ngf.first()\\n'"
      ]
     },
     "execution_count": 58,
     "metadata": {
      "tags": []
     },
     "output_type": "execute_result"
    }
   ],
   "source": [
    "import pandas as pd\n",
    "import os\n",
    "path_visit = \"/content/data-ijcai15/userVisits-ijcai15\"\n",
    "path_poi = \"/content/data-ijcai15/poiList-ijcai15\"\n",
    "Dictf = {}\n",
    "for i in os.listdir(path_visit):\n",
    "  Dict = {}\n",
    "# if condition is imposed so that the readme.txt file does not come in the loop  \n",
    "  if \"csv\" in str(i):\n",
    "    print(i)\n",
    "    n = str(i).split(\"-\")\n",
    "    na = n[1].split(\".\")\n",
    "    name= str(na[0])\n",
    "# print(name) \n",
    "    table_visit = pd.read_csv(os.path.join(path_visit,i),sep =\";\")\n",
    "#    gf = table_visit.groupby(\"userID\")\n",
    "    for j in range(len(table_visit)):\n",
    "      dict_name = table_visit.loc[j,\"userID\"]\n",
    "      if str(dict_name) in Dict.keys():\n",
    "        if table_visit.loc[j,\"poiID\"] in Dict[dict_name]:\n",
    "          continue\n",
    "        Dict[str(dict_name)].append(table_visit.loc[j,\"poiID\"])\n",
    "      else:\n",
    "        Dict[str(dict_name)] = [table_visit.loc[j,\"poiID\"]] \n",
    "# two loops will be used as first we will take out the name of the user visiting file by splitting and by extracting it we access the file in poi file \n",
    "# then by matching the poi_id we can extract the places of the particular user     \n",
    "    for k in os.listdir(path_poi):\n",
    "      print(name,k,end=\" \")\n",
    "      if \"csv\" and name in str(k):\n",
    "        table_poi = pd.read_csv(os.path.join(path_poi,k),sep=\";\")\n",
    "        for key,value in Dict.items():\n",
    "          for f in value:\n",
    "            for h in range(len(table_poi)):\n",
    "              if f == table_poi.loc[h,\"poiID\"]:\n",
    "                if str(key) in Dictf.keys():\n",
    "                  Dictf[str(key)].append(str(table_poi.loc[h,[\"poiName\",\"lat\",\"long\",\"theme\"]])) \n",
    "                else:\n",
    "                  Dictf[str(key)] = [str(table_poi.loc[h,[\"poiName\",\"lat\",\"long\",\"theme\"]])]\n",
    "          \n",
    "'''\n",
    "    for f in os.listdir(path_poi):\n",
    "      if \"csv\" and name in str(f):\n",
    "        print(f)\n",
    "        \n",
    "#comparing the same poiID in table_visit and table_poi\n",
    "        t = 0        \n",
    "        for u in gf.loc[:,\"poiID\"]:\n",
    "          t+=1\n",
    "          aip.append(u)\n",
    "        break\n",
    "    break      \n",
    "#          Dict[table_visit.userID] == [table_poi[\"poiName\",\"theme\",\"lat\",\"long\"]]\n",
    "print(Dict)\n",
    "gf.first()\n",
    "'''\n"
   ]
  },
  {
   "cell_type": "code",
   "execution_count": 60,
   "metadata": {
    "colab": {
     "base_uri": "https://localhost:8080/",
     "height": 73
    },
    "colab_type": "code",
    "id": "gai_PwiRQ_Xc",
    "outputId": "d033560f-7ba1-4fcd-db45-dd34e3c63db1"
   },
   "outputs": [
    {
     "name": "stdout",
     "output_type": "stream",
     "text": [
      "9\n",
      "['poiName    Gresham_Palace\\nlat               47.4997\\nlong               19.048\\ntheme          Historical\\nName: 2, dtype: object', 'poiName    Erzs%C3%A9bet_Bridge\\nlat                     47.4908\\nlong                    19.0489\\ntheme                 Transport\\nName: 13, dtype: object', 'poiName    Buda_Castle\\nlat            47.4961\\nlong           19.0397\\ntheme       Historical\\nName: 3, dtype: object', 'poiName    Vajdahunyad_Castle\\nlat                   47.5153\\nlong                  19.0819\\ntheme              Historical\\nName: 11, dtype: object', 'poiName    Sz%C3%A9chenyi_Medicinal_Bath\\nlat                              47.5186\\nlong                             19.0819\\ntheme                               Park\\nName: 10, dtype: object', 'poiName    Great_Market_Hall_(Budapest)\\nlat                             47.4867\\nlong                            19.0589\\ntheme                          Shopping\\nName: 20, dtype: object', 'poiName    Liberty_Statue_(Budapest)\\nlat                          47.4864\\nlong                         19.0481\\ntheme                           Park\\nName: 18, dtype: object', 'poiName    Gell%C3%A9rt_Hill_Cave\\nlat                       47.4851\\nlong                       19.052\\ntheme                        Park\\nName: 17, dtype: object', 'poiName    House_of_Terror\\nlat                47.5069\\nlong               19.0653\\ntheme               Museum\\nName: 5, dtype: object']\n"
     ]
    }
   ],
   "source": [
    "#for dor in list(Dictf)[:5]:\n",
    "#  print(Dictf[str(dor)])\n",
    "print(len(Dictf[\"101655764@N06\"]))  \n",
    "print(Dictf[\"101655764@N06\"])  \n",
    "#table_visit"
   ]
  },
  {
   "cell_type": "code",
   "execution_count": 1,
   "metadata": {
    "colab": {},
    "colab_type": "code",
    "id": "Tc4H5NLzUo2C"
   },
   "outputs": [
    {
     "ename": "NameError",
     "evalue": "name 'Dictf' is not defined",
     "output_type": "error",
     "traceback": [
      "\u001b[0;31m---------------------------------------------------------------------------\u001b[0m",
      "\u001b[0;31mNameError\u001b[0m                                 Traceback (most recent call last)",
      "\u001b[0;32m<ipython-input-1-27c05b7697a8>\u001b[0m in \u001b[0;36m<module>\u001b[0;34m\u001b[0m\n\u001b[1;32m      1\u001b[0m \u001b[0;32mimport\u001b[0m \u001b[0mpickle\u001b[0m\u001b[0;34m\u001b[0m\u001b[0m\n\u001b[0;32m----> 2\u001b[0;31m \u001b[0mb\u001b[0m \u001b[0;34m=\u001b[0m \u001b[0mpickle\u001b[0m\u001b[0;34m.\u001b[0m\u001b[0mdumps\u001b[0m\u001b[0;34m(\u001b[0m\u001b[0mDictf\u001b[0m\u001b[0;34m)\u001b[0m\u001b[0;34m\u001b[0m\u001b[0m\n\u001b[0m\u001b[1;32m      3\u001b[0m \u001b[0mpoi_dict\u001b[0m \u001b[0;34m=\u001b[0m \u001b[0mpickle\u001b[0m\u001b[0;34m.\u001b[0m\u001b[0mloads\u001b[0m\u001b[0;34m(\u001b[0m\u001b[0mb\u001b[0m\u001b[0;34m)\u001b[0m\u001b[0;34m\u001b[0m\u001b[0m\n",
      "\u001b[0;31mNameError\u001b[0m: name 'Dictf' is not defined"
     ]
    }
   ],
   "source": [
    "import pickle\n",
    "b = pickle.dumps(Dictf)\n",
    "poi_dict = pickle.loads(b)"
   ]
  },
  {
   "cell_type": "code",
   "execution_count": 0,
   "metadata": {
    "colab": {},
    "colab_type": "code",
    "id": "m12Jlom9d5T4"
   },
   "outputs": [],
   "source": []
  }
 ],
 "metadata": {
  "accelerator": "GPU",
  "colab": {
   "name": "POI.ipynb",
   "provenance": []
  },
  "kernelspec": {
   "display_name": "Python 3",
   "language": "python",
   "name": "python3"
  },
  "language_info": {
   "codemirror_mode": {
    "name": "ipython",
    "version": 3
   },
   "file_extension": ".py",
   "mimetype": "text/x-python",
   "name": "python",
   "nbconvert_exporter": "python",
   "pygments_lexer": "ipython3",
   "version": "3.5.2"
  }
 },
 "nbformat": 4,
 "nbformat_minor": 1
}
