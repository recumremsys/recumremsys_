{
  "nbformat": 4,
  "nbformat_minor": 0,
  "metadata": {
    "colab": {
      "name": "Weather API objects.ipynb",
      "provenance": [],
      "collapsed_sections": []
    },
    "kernelspec": {
      "name": "python3",
      "display_name": "Python 3"
    }
  },
  "cells": [
    {
      "cell_type": "markdown",
      "metadata": {
        "id": "4f6PZK6SAs-g",
        "colab_type": "text"
      },
      "source": [
        "What to wear and when to wear."
      ]
    },
    {
      "cell_type": "code",
      "metadata": {
        "id": "8WSJPqYD_M8i",
        "colab_type": "code",
        "colab": {}
      },
      "source": [
        "#if difference not found much in the living conditions weather and visiting conditions weather then it can also say the things you are preffering day today  and if the person is of the origin country which is cool it most likely if he is visiting a cold country he wil not be prefer much clothes to protect himself from cold.\n",
        "def(weather_data):\n",
        "  objects_w = []\n",
        "  for i in weather_data[\"Min temperature\"]:\n",
        "    if i<30:\n",
        "      objects_w.append(\"boots,thick sweater, a winter coat.\")\n",
        "    elif i>=30 and i<50 :\n",
        "      objects_w.append(\"light sweaters, long pants,gloves,hats,acrylic fibre clothes\")\n",
        "    elif i<=50 and i<70:\n",
        "      objects.append(\"shorts, t-shirt\")\n",
        "    else:\n",
        "      object_w.append(\" light-colored dress, cotton clothes\")\n",
        "\n",
        "  for i in weather_data[\"Max temperature\"]:\n",
        "    if i<30:\n",
        "      objects_w.append(\"boots,thick sweater, a winter coat.\")\n",
        "    elif i>=30 and i<50 :\n",
        "      objects_w.append(\"light sweaters, long pants,gloves,hats,acrylic fibre clothes\")\n",
        "    elif i<=50 and i<70:\n",
        "      objects.append(\"shorts, t-shirt, water bottle\")\n",
        "    else:\n",
        "      object_w.append(\" light-colored dress, cotton clothes,water bottle\")\n",
        "\n",
        "  for k in weather_data[\"percentage of rain\"]:\n",
        "    if k > 40%:\n",
        "    objects_w.append(\"Ankle boot, Umbrella, Raincoat\")\n",
        "  return objects_w"
      ],
      "execution_count": 0,
      "outputs": []
    }
  ]
}